{
 "cells": [
  {
   "cell_type": "markdown",
   "id": "931c467d",
   "metadata": {},
   "source": [
    "Jorge Castro DAPT NOV2021\n",
    "# Lab 9\n"
   ]
  },
  {
   "cell_type": "markdown",
   "id": "d8af0ca4",
   "metadata": {},
   "source": [
    "* Create a Python connection with SQL database and retrieve the results of the last two queries (also mentioned below) as dataframes:"
   ]
  },
  {
   "cell_type": "code",
   "execution_count": 148,
   "id": "2d391615",
   "metadata": {},
   "outputs": [],
   "source": [
    "from sqlalchemy import create_engine\n",
    "import pandas as pd\n",
    "import getpass\n",
    "import numpy as np"
   ]
  },
  {
   "cell_type": "code",
   "execution_count": 149,
   "id": "dec7585c",
   "metadata": {},
   "outputs": [
    {
     "name": "stdout",
     "output_type": "stream",
     "text": [
      "········\n"
     ]
    }
   ],
   "source": [
    "password = getpass.getpass()\n",
    "DATABASE_LOCATION = 'mysql+pymysql://root:' + password + '@localhost/sakila'"
   ]
  },
  {
   "cell_type": "code",
   "execution_count": 150,
   "id": "97d8e010",
   "metadata": {},
   "outputs": [],
   "source": [
    "query_1 = \"\"\"\n",
    "SELECT concat((b.last_name), ' ', (b.first_name)) AS customer_name,\n",
    "    count(*) AS number_of_films_rented_may\n",
    "FROM rentals_may a\n",
    "    INNER JOIN customer b ON a.customer_id = b.customer_id\n",
    "GROUP BY 1\n",
    "ORDER BY 1;\n",
    "\"\"\""
   ]
  },
  {
   "cell_type": "code",
   "execution_count": 151,
   "id": "0eca739c",
   "metadata": {},
   "outputs": [],
   "source": [
    "query_2 = \"\"\"\n",
    "SELECT concat((b.last_name), ' ', (b.first_name)) AS customer_name,\n",
    "    count(*) AS number_of_films_rented_june\n",
    "FROM rentals_june a\n",
    "    INNER JOIN customer b ON a.customer_id = b.customer_id\n",
    "GROUP BY 1\n",
    "ORDER BY 1;\n",
    "\"\"\""
   ]
  },
  {
   "cell_type": "code",
   "execution_count": 152,
   "id": "aaa08b2e",
   "metadata": {},
   "outputs": [
    {
     "name": "stdout",
     "output_type": "stream",
     "text": [
      "2022-01-08 21:39:56,957 INFO sqlalchemy.engine.Engine SHOW VARIABLES LIKE 'sql_mode'\n",
      "2022-01-08 21:39:56,961 INFO sqlalchemy.engine.Engine [raw sql] {}\n",
      "2022-01-08 21:39:56,974 INFO sqlalchemy.engine.Engine SHOW VARIABLES LIKE 'lower_case_table_names'\n",
      "2022-01-08 21:39:56,976 INFO sqlalchemy.engine.Engine [generated in 0.00206s] {}\n",
      "2022-01-08 21:39:56,984 INFO sqlalchemy.engine.Engine SELECT DATABASE()\n",
      "2022-01-08 21:39:56,986 INFO sqlalchemy.engine.Engine [raw sql] {}\n",
      "2022-01-08 21:39:56,990 INFO sqlalchemy.engine.Engine \n",
      "SELECT\n",
      "    concat((b.last_name), ' ', (b.first_name)) AS customer_name,\n",
      "    count(*) AS number_of_films_rented_may\n",
      "FROM\n",
      "    rentals_may a\n",
      "    INNER JOIN customer b ON a.customer_id = b.customer_id\n",
      "GROUP BY\n",
      "    1\n",
      "ORDER BY\n",
      "    1;\n",
      "\n",
      "\n",
      "2022-01-08 21:39:56,992 INFO sqlalchemy.engine.Engine [raw sql] {}\n"
     ]
    },
    {
     "data": {
      "text/html": [
       "<div>\n",
       "<style scoped>\n",
       "    .dataframe tbody tr th:only-of-type {\n",
       "        vertical-align: middle;\n",
       "    }\n",
       "\n",
       "    .dataframe tbody tr th {\n",
       "        vertical-align: top;\n",
       "    }\n",
       "\n",
       "    .dataframe thead th {\n",
       "        text-align: right;\n",
       "    }\n",
       "</style>\n",
       "<table border=\"1\" class=\"dataframe\">\n",
       "  <thead>\n",
       "    <tr style=\"text-align: right;\">\n",
       "      <th></th>\n",
       "      <th>customer_name</th>\n",
       "      <th>number_of_films_rented_may</th>\n",
       "    </tr>\n",
       "  </thead>\n",
       "  <tbody>\n",
       "    <tr>\n",
       "      <th>0</th>\n",
       "      <td>ABNEY RAFAEL</td>\n",
       "      <td>2</td>\n",
       "    </tr>\n",
       "    <tr>\n",
       "      <th>1</th>\n",
       "      <td>ADAM NATHANIEL</td>\n",
       "      <td>3</td>\n",
       "    </tr>\n",
       "    <tr>\n",
       "      <th>2</th>\n",
       "      <td>ADAMS KATHLEEN</td>\n",
       "      <td>2</td>\n",
       "    </tr>\n",
       "    <tr>\n",
       "      <th>3</th>\n",
       "      <td>ALLARD GORDON</td>\n",
       "      <td>1</td>\n",
       "    </tr>\n",
       "    <tr>\n",
       "      <th>4</th>\n",
       "      <td>ALLEN SHIRLEY</td>\n",
       "      <td>1</td>\n",
       "    </tr>\n",
       "  </tbody>\n",
       "</table>\n",
       "</div>"
      ],
      "text/plain": [
       "    customer_name  number_of_films_rented_may\n",
       "0    ABNEY RAFAEL                           2\n",
       "1  ADAM NATHANIEL                           3\n",
       "2  ADAMS KATHLEEN                           2\n",
       "3   ALLARD GORDON                           1\n",
       "4   ALLEN SHIRLEY                           1"
      ]
     },
     "execution_count": 152,
     "metadata": {},
     "output_type": "execute_result"
    }
   ],
   "source": [
    "engine = create_engine(DATABASE_LOCATION, echo=True)\n",
    "data_1 = pd.read_sql_query(query_1, engine)\n",
    "data_1.head()"
   ]
  },
  {
   "cell_type": "code",
   "execution_count": 153,
   "id": "e5ff06d9",
   "metadata": {
    "scrolled": true
   },
   "outputs": [
    {
     "name": "stdout",
     "output_type": "stream",
     "text": [
      "2022-01-08 21:39:57,889 INFO sqlalchemy.engine.Engine \n",
      "SELECT\n",
      "    concat((b.last_name), ' ', (b.first_name)) AS customer_name,\n",
      "    count(*) AS number_of_films_rented_june\n",
      "FROM\n",
      "    rentals_june a\n",
      "    INNER JOIN customer b ON a.customer_id = b.customer_id\n",
      "GROUP BY\n",
      "    1\n",
      "ORDER BY\n",
      "    1;\n",
      "\n",
      "2022-01-08 21:39:57,890 INFO sqlalchemy.engine.Engine [raw sql] {}\n"
     ]
    },
    {
     "data": {
      "text/html": [
       "<div>\n",
       "<style scoped>\n",
       "    .dataframe tbody tr th:only-of-type {\n",
       "        vertical-align: middle;\n",
       "    }\n",
       "\n",
       "    .dataframe tbody tr th {\n",
       "        vertical-align: top;\n",
       "    }\n",
       "\n",
       "    .dataframe thead th {\n",
       "        text-align: right;\n",
       "    }\n",
       "</style>\n",
       "<table border=\"1\" class=\"dataframe\">\n",
       "  <thead>\n",
       "    <tr style=\"text-align: right;\">\n",
       "      <th></th>\n",
       "      <th>customer_name</th>\n",
       "      <th>number_of_films_rented_june</th>\n",
       "    </tr>\n",
       "  </thead>\n",
       "  <tbody>\n",
       "    <tr>\n",
       "      <th>0</th>\n",
       "      <td>ABNEY RAFAEL</td>\n",
       "      <td>4</td>\n",
       "    </tr>\n",
       "    <tr>\n",
       "      <th>1</th>\n",
       "      <td>ADAM NATHANIEL</td>\n",
       "      <td>2</td>\n",
       "    </tr>\n",
       "    <tr>\n",
       "      <th>2</th>\n",
       "      <td>ADAMS KATHLEEN</td>\n",
       "      <td>1</td>\n",
       "    </tr>\n",
       "    <tr>\n",
       "      <th>3</th>\n",
       "      <td>ALEXANDER DIANA</td>\n",
       "      <td>7</td>\n",
       "    </tr>\n",
       "    <tr>\n",
       "      <th>4</th>\n",
       "      <td>ALLARD GORDON</td>\n",
       "      <td>3</td>\n",
       "    </tr>\n",
       "  </tbody>\n",
       "</table>\n",
       "</div>"
      ],
      "text/plain": [
       "     customer_name  number_of_films_rented_june\n",
       "0     ABNEY RAFAEL                            4\n",
       "1   ADAM NATHANIEL                            2\n",
       "2   ADAMS KATHLEEN                            1\n",
       "3  ALEXANDER DIANA                            7\n",
       "4    ALLARD GORDON                            3"
      ]
     },
     "execution_count": 153,
     "metadata": {},
     "output_type": "execute_result"
    }
   ],
   "source": [
    "data_2 = pd.read_sql_query(query_2, engine)\n",
    "data_2.head()"
   ]
  },
  {
   "cell_type": "code",
   "execution_count": null,
   "id": "a920fa8a",
   "metadata": {},
   "outputs": [],
   "source": []
  },
  {
   "cell_type": "code",
   "execution_count": 154,
   "id": "b378ba90",
   "metadata": {},
   "outputs": [],
   "source": [
    "data_merged = pd.merge(data_1, data_2)"
   ]
  },
  {
   "cell_type": "code",
   "execution_count": 155,
   "id": "5587ba4e",
   "metadata": {},
   "outputs": [
    {
     "data": {
      "text/html": [
       "<div>\n",
       "<style scoped>\n",
       "    .dataframe tbody tr th:only-of-type {\n",
       "        vertical-align: middle;\n",
       "    }\n",
       "\n",
       "    .dataframe tbody tr th {\n",
       "        vertical-align: top;\n",
       "    }\n",
       "\n",
       "    .dataframe thead th {\n",
       "        text-align: right;\n",
       "    }\n",
       "</style>\n",
       "<table border=\"1\" class=\"dataframe\">\n",
       "  <thead>\n",
       "    <tr style=\"text-align: right;\">\n",
       "      <th></th>\n",
       "      <th>customer_name</th>\n",
       "      <th>number_of_films_rented_may</th>\n",
       "      <th>number_of_films_rented_june</th>\n",
       "    </tr>\n",
       "  </thead>\n",
       "  <tbody>\n",
       "    <tr>\n",
       "      <th>0</th>\n",
       "      <td>ABNEY RAFAEL</td>\n",
       "      <td>2</td>\n",
       "      <td>4</td>\n",
       "    </tr>\n",
       "    <tr>\n",
       "      <th>1</th>\n",
       "      <td>ADAM NATHANIEL</td>\n",
       "      <td>3</td>\n",
       "      <td>2</td>\n",
       "    </tr>\n",
       "    <tr>\n",
       "      <th>2</th>\n",
       "      <td>ADAMS KATHLEEN</td>\n",
       "      <td>2</td>\n",
       "      <td>1</td>\n",
       "    </tr>\n",
       "    <tr>\n",
       "      <th>3</th>\n",
       "      <td>ALLARD GORDON</td>\n",
       "      <td>1</td>\n",
       "      <td>3</td>\n",
       "    </tr>\n",
       "    <tr>\n",
       "      <th>4</th>\n",
       "      <td>ALLEN SHIRLEY</td>\n",
       "      <td>1</td>\n",
       "      <td>8</td>\n",
       "    </tr>\n",
       "  </tbody>\n",
       "</table>\n",
       "</div>"
      ],
      "text/plain": [
       "    customer_name  number_of_films_rented_may  number_of_films_rented_june\n",
       "0    ABNEY RAFAEL                           2                            4\n",
       "1  ADAM NATHANIEL                           3                            2\n",
       "2  ADAMS KATHLEEN                           2                            1\n",
       "3   ALLARD GORDON                           1                            3\n",
       "4   ALLEN SHIRLEY                           1                            8"
      ]
     },
     "execution_count": 155,
     "metadata": {},
     "output_type": "execute_result"
    }
   ],
   "source": [
    "data_merged.head()"
   ]
  }
 ],
 "metadata": {
  "kernelspec": {
   "display_name": "Python 3 (ipykernel)",
   "language": "python",
   "name": "python3"
  },
  "language_info": {
   "codemirror_mode": {
    "name": "ipython",
    "version": 3
   },
   "file_extension": ".py",
   "mimetype": "text/x-python",
   "name": "python",
   "nbconvert_exporter": "python",
   "pygments_lexer": "ipython3",
   "version": "3.8.12"
  },
  "toc": {
   "base_numbering": 1,
   "nav_menu": {},
   "number_sections": false,
   "sideBar": true,
   "skip_h1_title": false,
   "title_cell": "Table of Contents",
   "title_sidebar": "Contents",
   "toc_cell": false,
   "toc_position": {},
   "toc_section_display": true,
   "toc_window_display": false
  }
 },
 "nbformat": 4,
 "nbformat_minor": 5
}

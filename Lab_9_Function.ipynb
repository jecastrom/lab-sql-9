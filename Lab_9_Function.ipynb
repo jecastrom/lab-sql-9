{
 "cells": [
  {
   "cell_type": "markdown",
   "id": "221ad70b",
   "metadata": {},
   "source": [
    "Jorge Castro DAPT NOV2021\n",
    "# Lab 9 cont.\n",
    "Write a function that checks if customer borrowed more or less films in the month of June as compared to May"
   ]
  },
  {
   "cell_type": "code",
   "execution_count": 2,
   "id": "6988a9d6",
   "metadata": {},
   "outputs": [],
   "source": [
    "query_1 = \"\"\"\n",
    "SELECT\n",
    "    concat((b.last_name), ' ', (b.first_name)) AS customer_name,\n",
    "    count(*) AS number_of_films_rented_may\n",
    "FROM\n",
    "    rentals_may a\n",
    "    INNER JOIN customer b ON a.customer_id = b.customer_id\n",
    "GROUP BY\n",
    "    1\n",
    "ORDER BY\n",
    "    1;\n",
    "\n",
    "\"\"\""
   ]
  },
  {
   "cell_type": "code",
   "execution_count": 3,
   "id": "a86c3f5c",
   "metadata": {},
   "outputs": [],
   "source": [
    "query_2 = \"\"\"\n",
    "SELECT\n",
    "    concat((b.last_name), ' ', (b.first_name)) AS customer_name,\n",
    "    count(*) AS number_of_films_rented_june\n",
    "FROM\n",
    "    rentals_june a\n",
    "    INNER JOIN customer b ON a.customer_id = b.customer_id\n",
    "GROUP BY\n",
    "    1\n",
    "ORDER BY\n",
    "    1;\n",
    "\"\"\""
   ]
  },
  {
   "cell_type": "code",
   "execution_count": 5,
   "id": "2a80bb91",
   "metadata": {},
   "outputs": [],
   "source": [
    "def rents(customer_name):\n",
    "    from sqlalchemy import create_engine\n",
    "    import pandas as pd\n",
    "    import getpass\n",
    "    import numpy as np\n",
    "\n",
    "    # Connecting to the database\n",
    "    password = getpass.getpass()\n",
    "    DATABASE_LOCATION = 'mysql+pymysql://root:' + password + '@localhost/sakila'\n",
    "    engine = create_engine(DATABASE_LOCATION)\n",
    "\n",
    "    # Fetching rentals for May with the SQL query \n",
    "    data_05 = pd.read_sql_query(query_1, engine)\n",
    "\n",
    "    # Fetching rentals for June with the SQL query \n",
    "    data_06 = pd.read_sql_query(query_2, engine)\n",
    "\n",
    "    # Merging the two DataFrames and replacing NULL values with (0)\n",
    "    rentals_05_06 = pd.merge(data_05, data_06)\n",
    "    rentals_05_06.fillna(value=0, inplace=True)\n",
    "\n",
    "    # Setting the index by customer name\n",
    "    rentals_05_06.set_index('customer_name', inplace = True)\n",
    "\n",
    "    if customer_name in rentals_05_06.index:\n",
    "        if rentals_05_06.at[customer_name, 'number_of_films_rented_may'] > rentals_05_06.at[customer_name, 'number_of_films_rented_june']:\n",
    "            print('Customer', customer_name, 'decreace of rents in June')\n",
    "        elif rentals_05_06.at[customer_name, 'number_of_films_rented_may'] < rentals_05_06.at[customer_name, 'number_of_films_rented_june']:\n",
    "            print('Customer', customer_name, 'increace of rents in June')\n",
    "        else:\n",
    "            print('Customer', customer_name, 'had same rents as May')\n",
    "    else:\n",
    "        print('Customer', customer_name, ' had no rents in May and June')\n"
   ]
  },
  {
   "cell_type": "code",
   "execution_count": 6,
   "id": "e97ced84",
   "metadata": {},
   "outputs": [
    {
     "name": "stdout",
     "output_type": "stream",
     "text": [
      "········\n",
      "Customer ABNEY RAFAEL increace of rents in June\n"
     ]
    }
   ],
   "source": [
    "rents('ABNEY RAFAEL')"
   ]
  },
  {
   "cell_type": "code",
   "execution_count": 8,
   "id": "852e2f87",
   "metadata": {},
   "outputs": [
    {
     "name": "stdout",
     "output_type": "stream",
     "text": [
      "········\n",
      "Customer ADAM NATHANIEL decreace of rents in June\n"
     ]
    }
   ],
   "source": [
    "rents('ADAM NATHANIEL')"
   ]
  },
  {
   "cell_type": "code",
   "execution_count": 9,
   "id": "61f02d51",
   "metadata": {},
   "outputs": [
    {
     "name": "stdout",
     "output_type": "stream",
     "text": [
      "········\n",
      "Customer ABNEY RAFAEL increace of rents in June\n"
     ]
    }
   ],
   "source": [
    "rents('ABNEY RAFAEL')"
   ]
  },
  {
   "cell_type": "code",
   "execution_count": null,
   "id": "aa41dcb9",
   "metadata": {},
   "outputs": [],
   "source": []
  }
 ],
 "metadata": {
  "kernelspec": {
   "display_name": "Python 3 (ipykernel)",
   "language": "python",
   "name": "python3"
  },
  "language_info": {
   "codemirror_mode": {
    "name": "ipython",
    "version": 3
   },
   "file_extension": ".py",
   "mimetype": "text/x-python",
   "name": "python",
   "nbconvert_exporter": "python",
   "pygments_lexer": "ipython3",
   "version": "3.8.12"
  },
  "toc": {
   "base_numbering": 1,
   "nav_menu": {},
   "number_sections": true,
   "sideBar": true,
   "skip_h1_title": false,
   "title_cell": "Table of Contents",
   "title_sidebar": "Contents",
   "toc_cell": false,
   "toc_position": {},
   "toc_section_display": true,
   "toc_window_display": false
  }
 },
 "nbformat": 4,
 "nbformat_minor": 5
}

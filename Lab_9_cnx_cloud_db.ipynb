{
 "cells": [
  {
   "cell_type": "markdown",
   "id": "2197fbb5",
   "metadata": {},
   "source": [
    "# Lab 9 Part 3 /\n",
    "# Connecting to a Microsoft Azure SQL Database with pyodbc"
   ]
  },
  {
   "cell_type": "code",
   "execution_count": 22,
   "id": "e72d98d7",
   "metadata": {},
   "outputs": [],
   "source": [
    "from sqlalchemy import create_engine\n",
    "import textwrap\n",
    "import pyodbc\n",
    "import getpass\n",
    "import pandas as pd\n",
    "import numpy as np"
   ]
  },
  {
   "cell_type": "markdown",
   "id": "226c4d0d",
   "metadata": {},
   "source": [
    "#### Setting up the connection string (database location) and the query variables"
   ]
  },
  {
   "cell_type": "code",
   "execution_count": 23,
   "id": "12d1df96",
   "metadata": {},
   "outputs": [],
   "source": [
    "sql_query_1 = \"\"\"\n",
    "SELECT last_name, first_name,\n",
    "    count(rental_id) AS number_of_films_rented_may\n",
    "FROM rental a\n",
    "    INNER JOIN customer b ON a.customer_id = b.customer_id\n",
    "WHERE MONTH(rental_date) = 5\n",
    "GROUP BY last_name, first_name\n",
    "ORDER BY 1;\n",
    "\"\"\""
   ]
  },
  {
   "cell_type": "code",
   "execution_count": 24,
   "id": "e8d96115",
   "metadata": {},
   "outputs": [],
   "source": [
    "sql_query_2 = \"\"\"\n",
    "SELECT *\n",
    "\tINTO rentals_may\n",
    "FROM rental\n",
    "WHERE month(rental_date) = 5;\n",
    "\"\"\""
   ]
  },
  {
   "cell_type": "code",
   "execution_count": 25,
   "id": "dca296ef",
   "metadata": {},
   "outputs": [],
   "source": [
    "sql_query_3 = \"\"\"\n",
    "SELECT * INTO rentals_june\n",
    "FROM rental\n",
    "WHERE month(rental_date) = 6;\n",
    "\"\"\""
   ]
  },
  {
   "cell_type": "code",
   "execution_count": 26,
   "id": "10bbfa96",
   "metadata": {},
   "outputs": [],
   "source": [
    "sql_query_4 = \"\"\"\n",
    "select top(5) *\n",
    "from rentals_june;\n",
    "\"\"\""
   ]
  },
  {
   "cell_type": "code",
   "execution_count": 27,
   "id": "dccb96a1",
   "metadata": {},
   "outputs": [
    {
     "data": {
      "text/plain": [
       "['SQL Server',\n",
       " 'SQL Server Native Client 11.0',\n",
       " 'SQL Server Native Client RDA 11.0',\n",
       " 'MySQL ODBC 8.0 ANSI Driver',\n",
       " 'MySQL ODBC 8.0 Unicode Driver',\n",
       " 'ODBC Driver 17 for SQL Server',\n",
       " 'Microsoft Access Driver (*.mdb, *.accdb)',\n",
       " 'Microsoft Excel Driver (*.xls, *.xlsx, *.xlsm, *.xlsb)',\n",
       " 'Microsoft Access Text Driver (*.txt, *.csv)']"
      ]
     },
     "execution_count": 27,
     "metadata": {},
     "output_type": "execute_result"
    }
   ],
   "source": [
    "# Driver: find the DRIVERS that are available using the pyodbc.drivers() method\n",
    "pyodbc.drivers()"
   ]
  },
  {
   "cell_type": "code",
   "execution_count": 28,
   "id": "7e8e64dc",
   "metadata": {},
   "outputs": [],
   "source": [
    "# Driver:\n",
    "driver='{ODBC Driver 17 for SQL Server}'\n",
    "\n",
    "# Server name and DataBase name:\n",
    "server_name='tcp:serv-sakila-2'\n",
    "database_name='sakila'\n",
    "\n",
    "# Creating the Server URL:\n",
    "server='{server_name}.database.windows.net,1433'.format(server_name=server_name)"
   ]
  },
  {
   "cell_type": "code",
   "execution_count": 29,
   "id": "87b2ccd1",
   "metadata": {},
   "outputs": [
    {
     "name": "stdout",
     "output_type": "stream",
     "text": [
      "········\n"
     ]
    }
   ],
   "source": [
    "# User name and password\n",
    "username='a100jcd'\n",
    "token=getpass.getpass()"
   ]
  },
  {
   "cell_type": "code",
   "execution_count": 30,
   "id": "7930c676",
   "metadata": {},
   "outputs": [],
   "source": [
    "# Setting up the Azure SQL database connection\n",
    "\n",
    "DATABASE_LOCATION = textwrap.dedent('''\n",
    "    Driver={driver};\n",
    "    Server={server};\n",
    "    Database={database};\n",
    "    Uid={username};\n",
    "    Pwd={token};\n",
    "    Encrypt=yes;\n",
    "    TrustServerCertificate=no;\n",
    "    Connection Timeout=30;\n",
    "    '''.format(driver=driver,server=server, \n",
    "    database=database_name, username=username, token=token))"
   ]
  },
  {
   "cell_type": "markdown",
   "id": "5f16d0a1",
   "metadata": {},
   "source": [
    "#### Connect and extract data"
   ]
  },
  {
   "cell_type": "code",
   "execution_count": 31,
   "id": "7a83a052",
   "metadata": {},
   "outputs": [
    {
     "ename": "ProgrammingError",
     "evalue": "('42000', \"[42000] [Microsoft][ODBC Driver 17 for SQL Server][SQL Server]Cannot open server 'serv-sakila-2' requested by the login. Client with IP address '2.206.133.211' is not allowed to access the server.  To enable access, use the Windows Azure Management Portal or run sp_set_firewall_rule on the master database to create a firewall rule for this IP address or address range.  It may take up to five minutes for this change to take effect. (40615) (SQLDriverConnect); [42000] [Microsoft][ODBC Driver 17 for SQL Server]Invalid connection string attribute (0); [42000] [Microsoft][ODBC Driver 17 for SQL Server][SQL Server]Cannot open server 'serv-sakila-2' requested by the login. Client with IP address '2.206.133.211' is not allowed to access the server.  To enable access, use the Windows Azure Management Portal or run sp_set_firewall_rule on the master database to create a firewall rule for this IP address or address range.  It may take up to five minutes for this change to take effect. (40615); [42000] [Microsoft][ODBC Driver 17 for SQL Server]Invalid connection string attribute (0)\")",
     "output_type": "error",
     "traceback": [
      "\u001b[1;31m---------------------------------------------------------------------------\u001b[0m",
      "\u001b[1;31mProgrammingError\u001b[0m                          Traceback (most recent call last)",
      "\u001b[1;32m~\\AppData\\Local\\Temp/ipykernel_19372/2813816242.py\u001b[0m in \u001b[0;36m<module>\u001b[1;34m\u001b[0m\n\u001b[1;32m----> 1\u001b[1;33m \u001b[0mcnx\u001b[0m \u001b[1;33m=\u001b[0m \u001b[0mpyodbc\u001b[0m\u001b[1;33m.\u001b[0m\u001b[0mconnect\u001b[0m\u001b[1;33m(\u001b[0m\u001b[0mDATABASE_LOCATION\u001b[0m\u001b[1;33m)\u001b[0m\u001b[1;33m\u001b[0m\u001b[1;33m\u001b[0m\u001b[0m\n\u001b[0m",
      "\u001b[1;31mProgrammingError\u001b[0m: ('42000', \"[42000] [Microsoft][ODBC Driver 17 for SQL Server][SQL Server]Cannot open server 'serv-sakila-2' requested by the login. Client with IP address '2.206.133.211' is not allowed to access the server.  To enable access, use the Windows Azure Management Portal or run sp_set_firewall_rule on the master database to create a firewall rule for this IP address or address range.  It may take up to five minutes for this change to take effect. (40615) (SQLDriverConnect); [42000] [Microsoft][ODBC Driver 17 for SQL Server]Invalid connection string attribute (0); [42000] [Microsoft][ODBC Driver 17 for SQL Server][SQL Server]Cannot open server 'serv-sakila-2' requested by the login. Client with IP address '2.206.133.211' is not allowed to access the server.  To enable access, use the Windows Azure Management Portal or run sp_set_firewall_rule on the master database to create a firewall rule for this IP address or address range.  It may take up to five minutes for this change to take effect. (40615); [42000] [Microsoft][ODBC Driver 17 for SQL Server]Invalid connection string attribute (0)\")"
     ]
    }
   ],
   "source": [
    "cnx = pyodbc.connect(DATABASE_LOCATION)"
   ]
  },
  {
   "cell_type": "code",
   "execution_count": 11,
   "id": "87e7f09a",
   "metadata": {},
   "outputs": [
    {
     "data": {
      "text/html": [
       "<div>\n",
       "<style scoped>\n",
       "    .dataframe tbody tr th:only-of-type {\n",
       "        vertical-align: middle;\n",
       "    }\n",
       "\n",
       "    .dataframe tbody tr th {\n",
       "        vertical-align: top;\n",
       "    }\n",
       "\n",
       "    .dataframe thead th {\n",
       "        text-align: right;\n",
       "    }\n",
       "</style>\n",
       "<table border=\"1\" class=\"dataframe\">\n",
       "  <thead>\n",
       "    <tr style=\"text-align: right;\">\n",
       "      <th></th>\n",
       "      <th>last_name</th>\n",
       "      <th>first_name</th>\n",
       "      <th>number_of_films_rented_may</th>\n",
       "    </tr>\n",
       "  </thead>\n",
       "  <tbody>\n",
       "    <tr>\n",
       "      <th>0</th>\n",
       "      <td>ABNEY</td>\n",
       "      <td>RAFAEL</td>\n",
       "      <td>2</td>\n",
       "    </tr>\n",
       "    <tr>\n",
       "      <th>1</th>\n",
       "      <td>ADAM</td>\n",
       "      <td>NATHANIEL</td>\n",
       "      <td>3</td>\n",
       "    </tr>\n",
       "    <tr>\n",
       "      <th>2</th>\n",
       "      <td>ADAMS</td>\n",
       "      <td>KATHLEEN</td>\n",
       "      <td>2</td>\n",
       "    </tr>\n",
       "    <tr>\n",
       "      <th>3</th>\n",
       "      <td>ALLARD</td>\n",
       "      <td>GORDON</td>\n",
       "      <td>1</td>\n",
       "    </tr>\n",
       "    <tr>\n",
       "      <th>4</th>\n",
       "      <td>ALLEN</td>\n",
       "      <td>SHIRLEY</td>\n",
       "      <td>1</td>\n",
       "    </tr>\n",
       "  </tbody>\n",
       "</table>\n",
       "</div>"
      ],
      "text/plain": [
       "  last_name first_name  number_of_films_rented_may\n",
       "0     ABNEY     RAFAEL                           2\n",
       "1      ADAM  NATHANIEL                           3\n",
       "2     ADAMS   KATHLEEN                           2\n",
       "3    ALLARD     GORDON                           1\n",
       "4     ALLEN    SHIRLEY                           1"
      ]
     },
     "execution_count": 11,
     "metadata": {},
     "output_type": "execute_result"
    }
   ],
   "source": [
    "data_1 = pd.read_sql_query(sql_query_1, cnx)\n",
    "data_1.head()"
   ]
  },
  {
   "cell_type": "code",
   "execution_count": 192,
   "id": "8ab2e5f6",
   "metadata": {},
   "outputs": [],
   "source": [
    "cursor = cnx.cursor()"
   ]
  },
  {
   "cell_type": "code",
   "execution_count": 193,
   "id": "7a09c5d3",
   "metadata": {},
   "outputs": [
    {
     "data": {
      "text/plain": [
       "<pyodbc.Cursor at 0x162f599b630>"
      ]
     },
     "execution_count": 193,
     "metadata": {},
     "output_type": "execute_result"
    }
   ],
   "source": [
    "cursor.execute(sql_query_2)"
   ]
  },
  {
   "cell_type": "code",
   "execution_count": 194,
   "id": "282a1382",
   "metadata": {},
   "outputs": [
    {
     "data": {
      "text/plain": [
       "<pyodbc.Cursor at 0x162f599b630>"
      ]
     },
     "execution_count": 194,
     "metadata": {},
     "output_type": "execute_result"
    }
   ],
   "source": [
    "cursor.execute(sql_query_3)"
   ]
  },
  {
   "cell_type": "code",
   "execution_count": 201,
   "id": "e1606a6c",
   "metadata": {},
   "outputs": [],
   "source": [
    "data_2 = pd.read_sql_query(sql_query_4, cnx)"
   ]
  },
  {
   "cell_type": "code",
   "execution_count": 202,
   "id": "9713c610",
   "metadata": {},
   "outputs": [
    {
     "data": {
      "text/html": [
       "<div>\n",
       "<style scoped>\n",
       "    .dataframe tbody tr th:only-of-type {\n",
       "        vertical-align: middle;\n",
       "    }\n",
       "\n",
       "    .dataframe tbody tr th {\n",
       "        vertical-align: top;\n",
       "    }\n",
       "\n",
       "    .dataframe thead th {\n",
       "        text-align: right;\n",
       "    }\n",
       "</style>\n",
       "<table border=\"1\" class=\"dataframe\">\n",
       "  <thead>\n",
       "    <tr style=\"text-align: right;\">\n",
       "      <th></th>\n",
       "      <th>rental_id</th>\n",
       "      <th>rental_date</th>\n",
       "      <th>inventory_id</th>\n",
       "      <th>customer_id</th>\n",
       "      <th>return_date</th>\n",
       "      <th>staff_id</th>\n",
       "      <th>last_update</th>\n",
       "    </tr>\n",
       "  </thead>\n",
       "  <tbody>\n",
       "    <tr>\n",
       "      <th>0</th>\n",
       "      <td>1185</td>\n",
       "      <td>2005-06-15 00:54:00</td>\n",
       "      <td>2785</td>\n",
       "      <td>1</td>\n",
       "      <td>2005-06-23 02:42:00</td>\n",
       "      <td>2</td>\n",
       "      <td>2006-02-15 21:30:00</td>\n",
       "    </tr>\n",
       "    <tr>\n",
       "      <th>1</th>\n",
       "      <td>1354</td>\n",
       "      <td>2005-06-15 13:13:00</td>\n",
       "      <td>1294</td>\n",
       "      <td>83</td>\n",
       "      <td>2005-06-23 13:08:00</td>\n",
       "      <td>2</td>\n",
       "      <td>2006-02-15 21:30:00</td>\n",
       "    </tr>\n",
       "    <tr>\n",
       "      <th>2</th>\n",
       "      <td>1523</td>\n",
       "      <td>2005-06-16 00:18:00</td>\n",
       "      <td>681</td>\n",
       "      <td>349</td>\n",
       "      <td>2005-06-17 02:50:00</td>\n",
       "      <td>2</td>\n",
       "      <td>2006-02-15 21:30:00</td>\n",
       "    </tr>\n",
       "    <tr>\n",
       "      <th>3</th>\n",
       "      <td>1692</td>\n",
       "      <td>2005-06-16 12:30:00</td>\n",
       "      <td>3544</td>\n",
       "      <td>514</td>\n",
       "      <td>2005-06-17 17:31:00</td>\n",
       "      <td>2</td>\n",
       "      <td>2006-02-15 21:30:00</td>\n",
       "    </tr>\n",
       "    <tr>\n",
       "      <th>4</th>\n",
       "      <td>1861</td>\n",
       "      <td>2005-06-17 01:17:00</td>\n",
       "      <td>135</td>\n",
       "      <td>454</td>\n",
       "      <td>2005-06-25 02:11:00</td>\n",
       "      <td>1</td>\n",
       "      <td>2006-02-15 21:30:00</td>\n",
       "    </tr>\n",
       "  </tbody>\n",
       "</table>\n",
       "</div>"
      ],
      "text/plain": [
       "   rental_id         rental_date  inventory_id  customer_id  \\\n",
       "0       1185 2005-06-15 00:54:00          2785            1   \n",
       "1       1354 2005-06-15 13:13:00          1294           83   \n",
       "2       1523 2005-06-16 00:18:00           681          349   \n",
       "3       1692 2005-06-16 12:30:00          3544          514   \n",
       "4       1861 2005-06-17 01:17:00           135          454   \n",
       "\n",
       "          return_date  staff_id         last_update  \n",
       "0 2005-06-23 02:42:00         2 2006-02-15 21:30:00  \n",
       "1 2005-06-23 13:08:00         2 2006-02-15 21:30:00  \n",
       "2 2005-06-17 02:50:00         2 2006-02-15 21:30:00  \n",
       "3 2005-06-17 17:31:00         2 2006-02-15 21:30:00  \n",
       "4 2005-06-25 02:11:00         1 2006-02-15 21:30:00  "
      ]
     },
     "execution_count": 202,
     "metadata": {},
     "output_type": "execute_result"
    }
   ],
   "source": [
    "data_2.head()"
   ]
  },
  {
   "cell_type": "code",
   "execution_count": null,
   "id": "23e408b1",
   "metadata": {},
   "outputs": [],
   "source": []
  },
  {
   "cell_type": "code",
   "execution_count": null,
   "id": "4662cf70",
   "metadata": {},
   "outputs": [],
   "source": []
  }
 ],
 "metadata": {
  "kernelspec": {
   "display_name": "Python 3 (ipykernel)",
   "language": "python",
   "name": "python3"
  },
  "language_info": {
   "codemirror_mode": {
    "name": "ipython",
    "version": 3
   },
   "file_extension": ".py",
   "mimetype": "text/x-python",
   "name": "python",
   "nbconvert_exporter": "python",
   "pygments_lexer": "ipython3",
   "version": "3.8.12"
  },
  "toc": {
   "base_numbering": 1,
   "nav_menu": {},
   "number_sections": false,
   "sideBar": true,
   "skip_h1_title": false,
   "title_cell": "Table of Contents",
   "title_sidebar": "Contents",
   "toc_cell": false,
   "toc_position": {
    "height": "calc(100% - 180px)",
    "left": "10px",
    "top": "150px",
    "width": "234.143px"
   },
   "toc_section_display": true,
   "toc_window_display": false
  }
 },
 "nbformat": 4,
 "nbformat_minor": 5
}
